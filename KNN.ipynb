{
 "cells": [
  {
   "cell_type": "code",
   "execution_count": 5,
   "id": "de72b3a3-4561-4245-b4b3-e0a311a41585",
   "metadata": {},
   "outputs": [],
   "source": [
    "import numpy as np\n",
    "import pandas as pd\n",
    "import matplotlib.pyplot as plt\n",
    "from sklearn import datasets, svm, metrics\n",
    "from sklearn.model_selection import train_test_split"
   ]
  },
  {
   "cell_type": "code",
   "execution_count": 6,
   "id": "3ef52fca-73f1-41e6-80fb-96740ae53e8f",
   "metadata": {},
   "outputs": [
    {
     "data": {
      "image/png": "[encoded data removed]",
      "text/plain": [
       "<Figure size 1000x300 with 4 Axes>"
      ]
     },
     "metadata": {},
     "output_type": "display_data"
    }
   ],
   "source": [
    "digits = datasets.load_digits()\n",
    "\n",
    "_, axes = plt.subplots(nrows=1, ncols=4, figsize=(10, 3))\n",
    "for ax, image, label in zip(axes, digits.images, digits.target):\n",
    "    ax.set_axis_off()\n",
    "    ax.imshow(image, cmap=plt.cm.gray_r, interpolation=\"nearest\")\n",
    "    ax.set_title(\"Training: %i\" % label)"
   ]
  },
  {
   "cell_type": "code",
   "execution_count": 72,
   "id": "b6e4cd4c-2170-4b91-85fb-cd1a24ac424c",
   "metadata": {},
   "outputs": [
    {
     "ename": "IndexError",
     "evalue": "list index out of range",
     "output_type": "error",
     "traceback": [
      "\u001b[1;31m---------------------------------------------------------------------------\u001b[0m",
      "\u001b[1;31mIndexError\u001b[0m                                Traceback (most recent call last)",
      "Cell \u001b[1;32mIn[72], line 32\u001b[0m\n\u001b[0;32m     30\u001b[0m miss \u001b[38;5;241m=\u001b[39m \u001b[38;5;241m0\u001b[39m\n\u001b[0;32m     31\u001b[0m \u001b[38;5;28;01mfor\u001b[39;00m y \u001b[38;5;129;01min\u001b[39;00m y_test:\n\u001b[1;32m---> 32\u001b[0m     \u001b[38;5;28mprint\u001b[39m(\u001b[38;5;124m\"\u001b[39m\u001b[38;5;124mtrue lable:\u001b[39m\u001b[38;5;124m\"\u001b[39m ,y ,\u001b[38;5;124m\"\u001b[39m\u001b[38;5;124mtest labels: \u001b[39m\u001b[38;5;124m\"\u001b[39m, \u001b[38;5;124m\"\u001b[39m\u001b[38;5;124mk=1\u001b[39m\u001b[38;5;124m\"\u001b[39m, \u001b[43mkruns\u001b[49m\u001b[43m[\u001b[49m\u001b[38;5;241;43m0\u001b[39;49m\u001b[43m]\u001b[49m\u001b[43m[\u001b[49m\u001b[43mi\u001b[49m\u001b[43m]\u001b[49m,\u001b[38;5;124m\"\u001b[39m\u001b[38;5;124mk=3\u001b[39m\u001b[38;5;124m\"\u001b[39m, kruns[\u001b[38;5;241m1\u001b[39m][i],\u001b[38;5;124m\"\u001b[39m\u001b[38;5;124mk=5\u001b[39m\u001b[38;5;124m\"\u001b[39m, kruns[\u001b[38;5;241m2\u001b[39m][i],\u001b[38;5;124m\"\u001b[39m\u001b[38;5;124mk=100\u001b[39m\u001b[38;5;124m\"\u001b[39m, kruns[\u001b[38;5;241m3\u001b[39m][i],\u001b[38;5;124m\"\u001b[39m\u001b[38;5;124mk=500\u001b[39m\u001b[38;5;124m\"\u001b[39m, kruns[\u001b[38;5;241m4\u001b[39m][i])\n\u001b[0;32m     33\u001b[0m     i\u001b[38;5;241m+\u001b[39m\u001b[38;5;241m1\u001b[39m\n",
      "\u001b[1;31mIndexError\u001b[0m: list index out of range"
     ]
    }
   ],
   "source": [
    "n_samples = len(digits.images)\n",
    "data = digits.images.reshape((n_samples, -1))\n",
    "\n",
    "X_train, X_test, y_train, y_test = train_test_split(\n",
    "    data, digits.target, test_size=0.1, shuffle=False\n",
    ")\n",
    "kruns=[[]]\n",
    "cls=[]\n",
    "distance  = []\n",
    "k = [1,3,5,100, 500]\n",
    "count = [0,0,0,0,0,0,0,0,0,0] \n",
    "for o in X_test:\n",
    "    for x, y in zip(X_train, y_train):\n",
    "        dist = 0\n",
    "        for g in range(0,len(x)):\n",
    "            dist=dist+abs(x[g]-o[g])\n",
    "        distance.append((y, dist))\n",
    "    sorted_dist = sorted(distance, key =lambda x: x[1])\n",
    "    distance = []\n",
    "    for i in range(len(k)):\n",
    "        for num in range(k[i]):\n",
    "            count[sorted_dist[num][0]]=count[sorted_dist[num][0]]+1\n",
    "        cl=np.argsort(count)\n",
    "        cls.append(cl[9])\n",
    "        kruns.append(cls)\n",
    "        cls=[]\n",
    "        for i in range(len(count)):\n",
    "            count[i]=0\n",
    "i=0\n",
    "miss = 0\n",
    "for y in y_test:\n",
    "    print(\"true lable:\" ,y ,\"test labels: \", \"k=1\", kruns[0][i],\"k=3\", kruns[1][i],\"k=5\", kruns[2][i],\"k=100\", kruns[3][i],\"k=500\", kruns[4][i])\n",
    "    i+1\n",
    "  \n",
    "\n",
    "        \n",
    "    "
   ]
  },
  {
   "cell_type": "code",
   "execution_count": null,
   "id": "eb042945-1090-4b1d-b703-62d0d043088e",
   "metadata": {},
   "outputs": [],
   "source": []
  }
 ],
 "metadata": {
  "kernelspec": {
   "display_name": "Python 3 (ipykernel)",
   "language": "python",
   "name": "python3"
  },
  "language_info": {
   "codemirror_mode": {
    "name": "ipython",
    "version": 3
   },
   "file_extension": ".py",
   "mimetype": "text/x-python",
   "name": "python",
   "nbconvert_exporter": "python",
   "pygments_lexer": "ipython3",
   "version": "3.12.4"
  }
 },
 "nbformat": 4,
 "nbformat_minor": 5
}
